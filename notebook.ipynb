{
 "cells": [
  {
   "cell_type": "markdown",
   "metadata": {},
   "source": [
    "# Graph Represenation"
   ]
  },
  {
   "cell_type": "code",
   "execution_count": 1,
   "metadata": {},
   "outputs": [],
   "source": [
    "import numpy as np"
   ]
  },
  {
   "cell_type": "code",
   "execution_count": 12,
   "metadata": {},
   "outputs": [
    {
     "name": "stdout",
     "output_type": "stream",
     "text": [
      "AAAW\n"
     ]
    }
   ],
   "source": [
    "def create_alphanum_node(m):\n",
    "    if m < 1:\n",
    "        return []\n",
    "    a_s = m//26\n",
    "    if a_s:\n",
    "        m %=26\n",
    "    return (\"A\"*a_s)+chr(65+m)\n",
    "\n",
    "# Example usage:\n",
    "m = 5\n",
    "print(create_alphanum_node(100))\n"
   ]
  },
  {
   "cell_type": "code",
   "execution_count": 13,
   "metadata": {},
   "outputs": [],
   "source": [
    "def create_graph_num(n):\n",
    "    G = np.zeros((n,n))\n",
    "    V = [x for x in range(1,n+1)]\n",
    "    for i in V:\n",
    "        x = 0\n",
    "    "
   ]
  },
  {
   "cell_type": "code",
   "execution_count": null,
   "metadata": {},
   "outputs": [],
   "source": [
    "def create_graph_alpha(n):\n",
    "    G = np.zeros((n,n))\n",
    "    V = [create_alphanum_node(x) for x in range(1,n+1)]\n",
    "    for i in V:\n",
    "        x = 0\n",
    "    "
   ]
  },
  {
   "cell_type": "code",
   "execution_count": null,
   "metadata": {},
   "outputs": [],
   "source": [
    "def graph():\n",
    "    n = int(input(\"How many nodes does the graph have: \"))\n",
    "    is_num = bool(input(\"Do you want your nodes to be named with (0) letters or (1) numbers: \"))\n",
    "    if is_num:\n",
    "        G = create_graph_num(n)\n",
    "    else:\n",
    "        G = create_graph_alpha(n)\n",
    "    "
   ]
  },
  {
   "cell_type": "code",
   "execution_count": 10,
   "metadata": {},
   "outputs": [
    {
     "data": {
      "text/plain": [
       "'A'"
      ]
     },
     "execution_count": 10,
     "metadata": {},
     "output_type": "execute_result"
    }
   ],
   "source": [
    "chr(65)"
   ]
  },
  {
   "cell_type": "markdown",
   "metadata": {},
   "source": [
    "# Searching Algorithms"
   ]
  },
  {
   "cell_type": "markdown",
   "metadata": {},
   "source": [
    "## BFS"
   ]
  },
  {
   "cell_type": "code",
   "execution_count": null,
   "metadata": {},
   "outputs": [],
   "source": []
  }
 ],
 "metadata": {
  "kernelspec": {
   "display_name": "Python 3",
   "language": "python",
   "name": "python3"
  },
  "language_info": {
   "codemirror_mode": {
    "name": "ipython",
    "version": 3
   },
   "file_extension": ".py",
   "mimetype": "text/x-python",
   "name": "python",
   "nbconvert_exporter": "python",
   "pygments_lexer": "ipython3",
   "version": "3.12.3"
  }
 },
 "nbformat": 4,
 "nbformat_minor": 2
}
